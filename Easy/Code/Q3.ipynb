{
 "cells": [
  {
   "cell_type": "code",
   "execution_count": 55,
   "metadata": {},
   "outputs": [
    {
     "name": "stdout",
     "output_type": "stream",
     "text": [
      "\n",
      "Before Equalization (Part 2): {'A': 10, 'B': 6, 'C': 17, 'D': 12, 'E': 18}\n",
      "Part 1 Result: C20\n",
      "Final Leaderboard (Part 1): {'A': 15, 'B': 10, 'C': 20, 'D': 14, 'E': 20}\n",
      "Part 2 Result: E18\n",
      "Final Leaderboard (Part 2): {'A': 10, 'B': 6, 'C': 17, 'D': 12, 'E': 18}\n"
     ]
    }
   ],
   "source": [
    "# Function to calculate scores based on part 1 rules\n",
    "def calculate_scores_part1(matches):\n",
    "    scores = {team: 0 for team in \"ABCDE\"}\n",
    "    \n",
    "    for i, match in enumerate(matches):\n",
    "        team1, team2, outcome = match.split()\n",
    "        if outcome == \"0\":\n",
    "            scores[team1] += 1\n",
    "        elif outcome == \"1\":\n",
    "            scores[team1] = max(0, scores[team1] - 1)\n",
    "            scores[team2] += 1\n",
    "        elif outcome == \"2\":\n",
    "            scores[team1] += 1\n",
    "            scores[team2] += 1\n",
    "        elif outcome == \"3\":\n",
    "            scores[team1] = max(0, scores[team1] - 1)\n",
    "            scores[team2] = max(0, scores[team2] - 1)\n",
    "\n",
    "        # print(f\"After round {i + 1} (Part 1):\", scores)\n",
    "\n",
    "    winning_team = max(scores, key=scores.get)\n",
    "    return f\"{winning_team}{scores[winning_team]}\", scores\n",
    "\n",
    "# Function to calculate scores based on part 2 rules\n",
    "def calculate_scores_part2(matches):\n",
    "    scores = {team: 0 for team in \"ABCDE\"}\n",
    "    \n",
    "    for i, match in enumerate(matches):\n",
    "        team1, team2, outcome = match.split()\n",
    "        if outcome == \"0\":\n",
    "            scores[team1] += 1\n",
    "        elif outcome == \"1\":\n",
    "            scores[team1] -= 1\n",
    "            scores[team2] += 1\n",
    "        elif outcome == \"2\":\n",
    "            scores[team1] += 1\n",
    "            scores[team2] += 1\n",
    "        elif outcome == \"3\":\n",
    "            scores[team1] -= 1\n",
    "            scores[team2] -= 1\n",
    "\n",
    "        # print(f\"After round {i + 1} (Part 2):\", scores)\n",
    "\n",
    "    # Apply equalization if there are negative scores\n",
    "    print(\"Before Equalization (Part 2):\", scores)\n",
    "    \n",
    "    min_score = min(scores.values())\n",
    "    if min_score < 0:\n",
    "        for team in scores:\n",
    "            scores[team] += abs(min_score)\n",
    "\n",
    "    winning_team = max(scores, key=scores.get)\n",
    "    return f\"{winning_team}{scores[winning_team]}\", scores\n",
    "\n",
    "# Read input matches from Q3.txt\n",
    "with open(\"Q3.txt\", \"r\") as file:\n",
    "    matches = file.read().strip().splitlines()\n",
    "\n",
    "# Calculate results for both parts\n",
    "result_part1, scores_part1 = calculate_scores_part1(matches)\n",
    "print(\"\")\n",
    "result_part2, scores_part2 = calculate_scores_part2(matches)\n",
    "\n",
    "# Output the results\n",
    "print(\"Part 1 Result:\", result_part1)\n",
    "print(\"Final Leaderboard (Part 1):\", scores_part1)\n",
    "print(\"Part 2 Result:\", result_part2)\n",
    "print(\"Final Leaderboard (Part 2):\", scores_part2)\n"
   ]
  },
  {
   "cell_type": "markdown",
   "metadata": {},
   "source": [
    "# Input gen"
   ]
  },
  {
   "cell_type": "code",
   "execution_count": 54,
   "metadata": {},
   "outputs": [],
   "source": [
    "import random\n",
    "import string\n",
    "\n",
    "def generate_line():\n",
    "    # Randomly select two different letters from A-E\n",
    "    letters = random.sample('ABCDE', 2)\n",
    "    \n",
    "    # Define the weights for numbers 0, 1, 2, and 3\n",
    "    weights = [0.15, 0.35, 0.35, 0.15]  # Example weights for each number (must sum to 1)\n",
    "    \n",
    "    # Randomly select a number from 0 to 3 with the specified weights\n",
    "    number = random.choices([0, 1, 2, 3], weights=weights, k=1)[0]\n",
    "    \n",
    "    # Format the line\n",
    "    return f\"{letters[0]} {letters[1]} {number}\"\n",
    "\n",
    "with open(\"Q3.txt\", \"w\") as file:\n",
    "        for _ in range(200):\n",
    "            file.write(generate_line() + \"\\n\")"
   ]
  }
 ],
 "metadata": {
  "kernelspec": {
   "display_name": "Python 3",
   "language": "python",
   "name": "python3"
  },
  "language_info": {
   "codemirror_mode": {
    "name": "ipython",
    "version": 3
   },
   "file_extension": ".py",
   "mimetype": "text/x-python",
   "name": "python",
   "nbconvert_exporter": "python",
   "pygments_lexer": "ipython3",
   "version": "3.12.0"
  }
 },
 "nbformat": 4,
 "nbformat_minor": 2
}
