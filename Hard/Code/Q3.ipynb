{
 "cells": [
  {
   "cell_type": "markdown",
   "metadata": {},
   "source": [
    "# P1"
   ]
  },
  {
   "cell_type": "code",
   "execution_count": 1,
   "metadata": {},
   "outputs": [],
   "source": [
    "hours = []\n",
    "\n",
    "with open(\"Q3.txt\", \"r\") as file:\n",
    "    temp_lines = []\n",
    "    for line in file:\n",
    "        line = line.strip().replace(\" \",\"\")\n",
    "        if line:\n",
    "            temp_lines.append(line)\n",
    "        if len(temp_lines) == 3:\n",
    "            hours.append(''.join(temp_lines))\n",
    "            temp_lines = []\n",
    "            \n",
    "# for i,workers in enumerate(hours):\n",
    "    # print(f\"W {i+1:2d}: {workers}\")"
   ]
  },
  {
   "cell_type": "code",
   "execution_count": 23,
   "metadata": {},
   "outputs": [
    {
     "name": "stdout",
     "output_type": "stream",
     "text": [
      "17 6\n"
     ]
    }
   ],
   "source": [
    "import itertools\n",
    "def calculate_score(workHours):\n",
    "    # calculate amount of work (1s)\n",
    "    total_work = sum([1 for hour in workHours if hour == \"1\"])\n",
    "    \n",
    "    # calculate longest work streak w/ groupby\n",
    "    \n",
    "    all_work_streaks = [list(g) for k, g in itertools.groupby(workHours)]\n",
    "    work_streaks = [streak for streak in all_work_streaks if streak[0] == \"1\"]\n",
    "    rest_streaks = [streak for streak in all_work_streaks if streak[0] == \"0\"]\n",
    "    \n",
    "    max_work_streak = max([len(streak) for streak in work_streaks])\n",
    "    max_rest_streak = max([len(streak) for streak in rest_streaks])\n",
    "    \n",
    "    # print(total_work, max_work_streak, max_rest_streak)\n",
    "\n",
    "    return total_work * max_work_streak, max_rest_streak\n",
    "\n",
    "\n",
    "qualify_for_bonus = 0\n",
    "to_be_fired = 0\n",
    "\n",
    "for i,workers in enumerate(hours):\n",
    "    score,rest = calculate_score(workers)\n",
    "    \n",
    "    # print(\"%2d\" % i,score,rest)\n",
    "    if score > 275:\n",
    "        # print(\"%2d\" % i,score,rest)\n",
    "        qualify_for_bonus += 1\n",
    "    else:\n",
    "        if rest > 4:    \n",
    "            # print(\"XXX -- \",\"%2d\" % i,score,rest)\n",
    "            to_be_fired += 1\n",
    "        \n",
    "print(qualify_for_bonus, to_be_fired)"
   ]
  },
  {
   "cell_type": "code",
   "execution_count": 3,
   "metadata": {},
   "outputs": [],
   "source": [
    "import textwrap"
   ]
  },
  {
   "cell_type": "code",
   "execution_count": 4,
   "metadata": {},
   "outputs": [
    {
     "name": "stdout",
     "output_type": "stream",
     "text": [
      "000000 000000 000000 000000\n"
     ]
    }
   ],
   "source": [
    "print(textwrap.fill(\"0\"*24,6).replace(\"\\n\", \" \"))"
   ]
  },
  {
   "cell_type": "code",
   "execution_count": 5,
   "metadata": {},
   "outputs": [],
   "source": [
    "import random\n",
    "\n",
    "def generate_random_binary_string():\n",
    "    # Generate a string of 24 random '0's and '1's\n",
    "    string = ''.join(random.choices('01', weights=[0.4, 0.6], k=24))\n",
    "    return string"
   ]
  },
  {
   "cell_type": "code",
   "execution_count": 6,
   "metadata": {},
   "outputs": [
    {
     "name": "stdout",
     "output_type": "stream",
     "text": [
      "111001 101111 011100 000001\n"
     ]
    }
   ],
   "source": [
    "# Example usage\n",
    "string = generate_random_binary_string()\n",
    "print(textwrap.fill(string, 6).replace(\"\\n\", \" \"))"
   ]
  },
  {
   "cell_type": "code",
   "execution_count": 7,
   "metadata": {},
   "outputs": [
    {
     "name": "stdout",
     "output_type": "stream",
     "text": [
      "1 3\n",
      "0 2\n",
      "1 2\n",
      "0 1\n",
      "1 4\n",
      "0 1\n",
      "1 3\n",
      "0 7\n",
      "1 1\n"
     ]
    }
   ],
   "source": [
    "import itertools\n",
    "\n",
    "for x,y in itertools.groupby(string):\n",
    "    print(x, len(list(y)))"
   ]
  },
  {
   "cell_type": "code",
   "execution_count": 8,
   "metadata": {},
   "outputs": [
    {
     "name": "stdout",
     "output_type": "stream",
     "text": [
      "111111 111101 000011 101011\n",
      "110101 101011 001110 000100\n",
      "010000 011001 101001 110111\n",
      "\n",
      "000001 011101 110011 110110\n",
      "101000 011011 111001 101000\n",
      "110011 111100 001001 001011\n",
      "\n",
      "111010 101111 101101 101010\n",
      "110100 110011 101011 001101\n",
      "110011 100000 110111 011101\n",
      "\n",
      "111110 100110 011111 011000\n",
      "111101 110010 100011 101111\n",
      "101111 101001 001110 110101\n",
      "\n",
      "011111 111100 010100 011011\n",
      "001010 111111 000101 110101\n",
      "110011 110111 110101 011100\n",
      "\n",
      "100011 011000 100101 100110\n",
      "110101 011111 100110 011100\n",
      "101111 010110 000101 111111\n",
      "\n",
      "001010 101111 101011 110001\n",
      "001010 111001 110100 101110\n",
      "010101 101011 101001 010101\n",
      "\n",
      "111111 101001 110111 110011\n",
      "001100 010011 010001 011011\n",
      "111101 001110 110111 111110\n",
      "\n",
      "110011 011111 110111 101110\n",
      "001101 100010 010111 101001\n",
      "110111 101011 001110 100010\n",
      "\n",
      "100111 101000 101001 010100\n",
      "111101 001001 001101 001111\n",
      "100101 111111 110011 110101\n",
      "\n",
      "011111 111100 111100 001001\n",
      "111001 011101 001001 000011\n",
      "000101 100101 101111 111111\n",
      "\n",
      "110001 000010 011010 100001\n",
      "110010 011001 000111 100101\n",
      "001000 011010 010111 110110\n",
      "\n",
      "011011 101101 011111 101111\n",
      "111000 111110 101100 110110\n",
      "111100 110101 111010 111100\n",
      "\n",
      "011111 011000 101101 111111\n",
      "111111 111100 110010 011111\n",
      "111101 010101 110000 000111\n",
      "\n",
      "101110 001110 011001 111000\n",
      "000001 101110 010010 100110\n",
      "110110 010111 101101 111011\n",
      "\n",
      "111110 011010 000111 100001\n",
      "001001 000011 011111 011111\n",
      "010101 010011 101110 101100\n",
      "\n",
      "011100 111110 000010 010110\n",
      "111101 010101 101111 101001\n",
      "110010 111100 101111 111010\n",
      "\n",
      "000101 000010 001110 001010\n",
      "111110 010100 111100 101010\n",
      "011110 011110 111101 110110\n",
      "\n",
      "111100 100000 110111 111011\n",
      "101111 101001 001111 101110\n",
      "110101 000110 111011 101001\n",
      "\n",
      "010110 010101 101110 110111\n",
      "001101 010011 100111 010011\n",
      "000101 001111 111111 111100\n",
      "\n",
      "011101 010110 101111 110111\n",
      "001100 010011 001011 110111\n",
      "000101 100110 110101 011010\n",
      "\n",
      "101111 001111 001011 101001\n",
      "111101 101000 111000 100001\n",
      "001111 100000 110010 000111\n",
      "\n",
      "110100 011101 001001 101011\n",
      "000101 010011 011111 011010\n",
      "100011 001110 101101 111110\n",
      "\n",
      "001111 111111 011101 111111\n",
      "010010 110110 110010 101000\n",
      "100111 011111 100011 011001\n",
      "\n",
      "110011 110011 101000 111010\n",
      "000101 110011 010010 111110\n",
      "110111 011000 101100 001010\n",
      "\n",
      "110111 110000 101011 011001\n",
      "110111 101010 110101 110000\n",
      "110011 110111 001111 100100\n",
      "\n",
      "111011 111101 011101 011011\n",
      "000010 110001 110011 001111\n",
      "110111 110011 000011 101111\n",
      "\n",
      "100011 110111 001101 000111\n",
      "011010 011100 101001 011101\n",
      "000010 110000 101101 001011\n",
      "\n",
      "011111 110010 111001 101100\n",
      "011001 100111 010000 101111\n",
      "101101 010101 011010 100111\n",
      "\n",
      "100000 101110 000011 111010\n",
      "101011 011010 010001 110110\n",
      "111010 100111 011011 111100\n",
      "\n"
     ]
    }
   ],
   "source": [
    "for i in range(30):\n",
    "    for y in range(3):\n",
    "        string = generate_random_binary_string()\n",
    "        print(textwrap.fill(string, 6).replace(\"\\n\", \" \"))\n",
    "    print(\"\")"
   ]
  }
 ],
 "metadata": {
  "kernelspec": {
   "display_name": "Python 3",
   "language": "python",
   "name": "python3"
  },
  "language_info": {
   "codemirror_mode": {
    "name": "ipython",
    "version": 3
   },
   "file_extension": ".py",
   "mimetype": "text/x-python",
   "name": "python",
   "nbconvert_exporter": "python",
   "pygments_lexer": "ipython3",
   "version": "3.12.0"
  }
 },
 "nbformat": 4,
 "nbformat_minor": 2
}
